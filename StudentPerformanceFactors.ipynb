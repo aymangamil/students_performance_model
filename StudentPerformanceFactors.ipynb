{
 "cells": [
  {
   "cell_type": "code",
   "execution_count": 2,
   "id": "aad2a210",
   "metadata": {},
   "outputs": [],
   "source": [
    "import numpy as np \n",
    "import pandas as pd\n",
    "import matplotlib.pyplot as plt \n",
    "import plotly.express as px \n",
    "import seaborn as sns \n",
    "from sklearn.linear_model import LinearRegression \n",
    "from sklearn.model_selection import train_test_split\n",
    "from sklearn.metrics import mean_squared_error, r2_score\n",
    "from sklearn.preprocessing import StandardScaler\n",
    "import missingno as msno\n",
    "import warnings \n",
    "warnings.filterwarnings('ignore')\n",
    "import plotly.graph_objects as go\n",
    "import pickle\n",
    "import tkinter as tk\n",
    "from tkinter import ttk\n",
    "from PIL import Image, ImageTk "
   ]
  },
  {
   "cell_type": "markdown",
   "id": "29e68c86",
   "metadata": {},
   "source": [
    "## Functions of  Exploration & EDA "
   ]
  },
  {
   "cell_type": "code",
   "execution_count": null,
   "id": "9cfa6f33",
   "metadata": {},
   "outputs": [],
   "source": [
    "def Exploration(Datafarme):\n",
    "    shape_data=Datafarme.shape\n",
    "    info_data=Datafarme.info()\n",
    "    print('\\nthe shape of data is',shape_data,'\\nconsist',Datafarme.shape[0],'row','\\nconsist',Datafarme.shape[1],'column','\\n\\n\\n',info_data)"
   ]
  },
  {
   "cell_type": "code",
   "execution_count": null,
   "id": "45f4a18e",
   "metadata": {},
   "outputs": [],
   "source": [
    "def describtion(df,column_name):\n",
    "    min_value=df[column_name].min()\n",
    "    max_value=df[column_name].max()\n",
    "    averge_value=df[column_name].mean()\n",
    "    print(f'Data in column {column_name} Ranged From {min_value} to {max_value} by averge {averge_value}')\n",
    "     \n",
    "    "
   ]
  },
  {
   "cell_type": "code",
   "execution_count": null,
   "id": "72f68d91",
   "metadata": {},
   "outputs": [],
   "source": [
    "def plot_all_distplots(df):\n",
    "    \n",
    "    num_vars = len(df.columns)\n",
    "    cols = 3  \n",
    "    rows = (num_vars + cols - 1) // cols  \n",
    "    fig, axes = plt.subplots(rows, cols, figsize=(15, 5 * rows))\n",
    "    \n",
    "    \n",
    "    axes = axes.flatten()\n",
    "    \n",
    "    \n",
    "    for i, col in enumerate(df.columns):\n",
    "        sns.histplot(df[col], kde=True, ax=axes[i],color='red')\n",
    "        axes[i].set_title(f'Distribution of {col}')\n",
    "    \n",
    "    for j in range(i + 1, len(axes)):\n",
    "        fig.delaxes(axes[j])\n",
    "    \n",
    "    plt.tight_layout()\n",
    "    plt.show()"
   ]
  },
  {
   "cell_type": "code",
   "execution_count": null,
   "id": "07a2a385",
   "metadata": {},
   "outputs": [],
   "source": [
    "def knowing_nulls_duplicate(df):\n",
    "    null_value=df.isnull().sum()\n",
    "    print(null_value)\n",
    "    print('-'*200)\n",
    "    null_value_count=df.isnull().sum().sum()\n",
    "    print(f'Data have {null_value_count} null value')\n",
    "    print('-'*200)\n",
    "    print('Duplicate Values :')\n",
    "    duplicate_value=df.duplicated().sum()\n",
    "    print(f'Data have {duplicate_value} duplicaed value')\n",
    "    if duplicate_value > 0:\n",
    "        print(f'duplicated value is :')\n",
    "        print(df[df.duplicated()])\n",
    "    else: \n",
    "        print('-'*200)\n",
    "        \n",
    "    "
   ]
  },
  {
   "cell_type": "code",
   "execution_count": null,
   "id": "569ffc53",
   "metadata": {},
   "outputs": [],
   "source": [
    "def plot_null_value(df):\n",
    "    bar_nulls=msno.bar(df)\n",
    "    matrix_nulls=msno.matrix(df)\n",
    "    return bar_nulls,matrix_nulls\n",
    "    "
   ]
  },
  {
   "cell_type": "code",
   "execution_count": null,
   "id": "30e47c61",
   "metadata": {},
   "outputs": [],
   "source": [
    "def plot_boxplots_with_exam_score(df, target_col='Exam_Score'):\n",
    "\n",
    "    sns.set(style=\"whitegrid\", palette=\"muted\")\n",
    "    \n",
    "    categorical_columns = df.select_dtypes(include=['category', 'object']).columns\n",
    "    \n",
    "    num_vars = len(categorical_columns)\n",
    "    cols = 2  \n",
    "    rows = (num_vars + cols - 1) // cols  \n",
    "    \n",
    "    fig, axes = plt.subplots(rows, cols, figsize=(15, 6 * rows))\n",
    "    fig.suptitle('Boxplot of Exam Score vs Categorical Columns', fontsize=20, fontweight='bold')\n",
    "    \n",
    "    axes = axes.flatten()\n",
    "    \n",
    "    for i, col in enumerate(categorical_columns):\n",
    "        sns.boxplot(x=df[col], y=df[target_col], ax=axes[i], palette=\"Set2\")\n",
    "        \n",
    "        axes[i].set_title(f'{col} vs {target_col}', fontsize=16, fontweight='bold')\n",
    "        axes[i].set_xlabel(col, fontsize=12)\n",
    "        axes[i].set_ylabel(target_col, fontsize=12)\n",
    "        \n",
    "    \n",
    "        axes[i].tick_params(axis='x', rotation=45)\n",
    "        axes[i].grid(True, linestyle='--', alpha=0.7)\n",
    "\n",
    "    for j in range(i + 1, len(axes)):\n",
    "        fig.delaxes(axes[j])\n",
    "    \n",
    "    plt.tight_layout(rect=[0, 0, 1, 0.97])\n",
    "    plt.show()"
   ]
  },
  {
   "cell_type": "code",
   "execution_count": null,
   "id": "1814e105",
   "metadata": {},
   "outputs": [],
   "source": [
    "def knowing_outliers(df):\n",
    "    # Initialize an empty list to store column names with outliers\n",
    "    columns_with_outliers = []\n",
    "    \n",
    "    # Loop through each column in the DataFrame\n",
    "    for column in df.select_dtypes(include=['float64', 'int64']).columns:\n",
    "        q1 = df[column].quantile(0.25)\n",
    "        q3 = df[column].quantile(0.75)\n",
    "        iqr = q3 - q1\n",
    "        lower_Bound = q1 - 1.5 * iqr\n",
    "        upper_bound = q3 + 1.5 * iqr\n",
    "        \n",
    "        # Count the number of outliers in the column\n",
    "        outliers_count = df[(df[column] < lower_Bound) | (df[column] > upper_bound)].shape[0]\n",
    "        \n",
    "        # If outliers are present, add the column name to the list\n",
    "        if outliers_count > 0:\n",
    "            columns_with_outliers.append(column)\n",
    "    \n",
    "    # Return the list of column names with outliers\n",
    "    return columns_with_outliers\n"
   ]
  },
  {
   "cell_type": "code",
   "execution_count": null,
   "id": "fd45685f",
   "metadata": {},
   "outputs": [],
   "source": [
    "def treat_outliers(dataFrame,x):\n",
    "    Q1=dataFrame[x].quantile(0.25)\n",
    "    Q3=dataFrame[x].quantile(0.75)\n",
    "    IQR=Q3-Q1\n",
    "    lower_Bound=Q3-1.5*IQR\n",
    "    upper_Bound=Q3+1.5*IQR\n",
    "    z=dataFrame[x].clip(lower_Bound,upper_Bound)\n",
    "    return z\n"
   ]
  },
  {
   "cell_type": "code",
   "execution_count": null,
   "id": "0f0a20b6",
   "metadata": {},
   "outputs": [],
   "source": [
    "def linear_regression_model_plotly(df, scaler, model_used):\n",
    "   \n",
    "    x = df.drop(columns=['Exam_Score'])\n",
    "    y = df['Exam_Score']\n",
    "    \n",
    "    X_train, X_test, y_train, y_test = train_test_split(x, y, shuffle=True, test_size=0.2)\n",
    "    \n",
    "    X_train_scaled = scaler.fit_transform(X_train)\n",
    "    X_test_scaled = scaler.transform(X_test)\n",
    "    \n",
    "    model = model_used\n",
    "    model.fit(X_train_scaled, y_train)\n",
    "    \n",
    "    y_pred = model.predict(X_test_scaled)\n",
    "    \n",
    "    mse = mean_squared_error(y_test, y_pred)\n",
    "    r2 = r2_score(y_test, y_pred)\n",
    "    \n",
    "    print(f\"Mean Squared Error (MSE): {mse:.3f}\")\n",
    "    print(f\"R² Score: {r2:.3f}\")\n",
    "    \n",
    "    fig = go.Figure()\n",
    "\n",
    "    fig.add_trace(go.Scatter(x=y_test, y=y_pred, \n",
    "                             mode='markers', \n",
    "                             marker=dict(color='blue', size=10, line=dict(width=1, color='DarkSlateGrey')),\n",
    "                             name='Predicted vs Actual'))\n",
    "\n",
    "    fig.add_trace(go.Scatter(x=[min(y_test), max(y_test)], \n",
    "                             y=[min(y_test), max(y_test)], \n",
    "                             mode='lines', \n",
    "                             line=dict(color='red', width=2), \n",
    "                             name='Perfect Fit'))\n",
    "\n",
    "    fig.update_layout(title='Actual vs Predicted - Linear Regression',\n",
    "                      xaxis_title='Actual Values',\n",
    "                      yaxis_title='Predicted Values',\n",
    "                      title_font=dict(size=24, family='Arial', color='darkblue'),\n",
    "                      xaxis=dict(showline=True, linewidth=2, linecolor='black', mirror=True),\n",
    "                      yaxis=dict(showline=True, linewidth=2, linecolor='black', mirror=True),\n",
    "                      plot_bgcolor='white',\n",
    "                      width=800,\n",
    "                      height=600)\n",
    "\n",
    "    fig.update_xaxes(tickfont=dict(size=14), gridcolor='lightgrey')\n",
    "    fig.update_yaxes(tickfont=dict(size=14), gridcolor='lightgrey')\n",
    "    \n",
    "    fig.show()\n",
    "    \n",
    "    with open('saved_linear_model_new.pkl', 'wb') as model_file:\n",
    "        pickle.dump(model, model_file)\n",
    "        \n",
    "    with open('saved_scaler_linear_new.pkl', 'wb') as scaler_file:\n",
    "        pickle.dump(scaler, scaler_file)\n",
    "    \n",
    "    return model"
   ]
  },
  {
   "cell_type": "markdown",
   "id": "5ea0b594",
   "metadata": {},
   "source": [
    "## Data overview "
   ]
  },
  {
   "cell_type": "code",
   "execution_count": null,
   "id": "e626487f",
   "metadata": {},
   "outputs": [],
   "source": [
    "df=pd.read_csv(r\"C:\\Users\\Ayman\\Downloads\\StudentPerformanceFactors.csv\")\n",
    "df"
   ]
  },
  {
   "cell_type": "code",
   "execution_count": null,
   "id": "bcdb762f",
   "metadata": {},
   "outputs": [],
   "source": [
    "Exploration(df)"
   ]
  },
  {
   "cell_type": "code",
   "execution_count": null,
   "id": "eb8d82fe",
   "metadata": {},
   "outputs": [],
   "source": [
    "for i in df.select_dtypes('object'):\n",
    "    df[i]=df[i].astype('category')"
   ]
  },
  {
   "cell_type": "code",
   "execution_count": null,
   "id": "1b5a17cb",
   "metadata": {},
   "outputs": [],
   "source": [
    "Exploration(df)"
   ]
  },
  {
   "cell_type": "code",
   "execution_count": null,
   "id": "9614fa76",
   "metadata": {},
   "outputs": [],
   "source": [
    "for i in df.select_dtypes('int'):\n",
    "    describtion(df,i)\n",
    "    "
   ]
  },
  {
   "cell_type": "code",
   "execution_count": null,
   "id": "740fd0f4",
   "metadata": {},
   "outputs": [],
   "source": [
    "plot_all_distplots(df.select_dtypes('int'))"
   ]
  },
  {
   "cell_type": "code",
   "execution_count": null,
   "id": "7a13833c",
   "metadata": {
    "scrolled": false
   },
   "outputs": [],
   "source": [
    "plot_boxplots_with_exam_score(df)"
   ]
  },
  {
   "cell_type": "markdown",
   "id": "1f8816a5",
   "metadata": {},
   "source": [
    "## Data cleaning "
   ]
  },
  {
   "cell_type": "code",
   "execution_count": null,
   "id": "d3ca634a",
   "metadata": {},
   "outputs": [],
   "source": [
    "knowing_nulls_duplicate(df)"
   ]
  },
  {
   "cell_type": "code",
   "execution_count": null,
   "id": "d46461b0",
   "metadata": {},
   "outputs": [],
   "source": [
    "null_bar,null_matrix=plot_null_value(df)"
   ]
  },
  {
   "cell_type": "markdown",
   "id": "79c79522",
   "metadata": {},
   "source": [
    "**No duplicate in Data**"
   ]
  },
  {
   "cell_type": "markdown",
   "id": "9e2b9b80",
   "metadata": {},
   "source": [
    "## Treat nulls "
   ]
  },
  {
   "cell_type": "code",
   "execution_count": null,
   "id": "ace4e9b6",
   "metadata": {},
   "outputs": [],
   "source": [
    "for i in df[['Teacher_Quality','Parental_Education_Level','Distance_from_Home']]:\n",
    "    count=df[i].value_counts().index[0]\n",
    "    print(f'the most frequent value in the column {i} is {count}')"
   ]
  },
  {
   "cell_type": "code",
   "execution_count": null,
   "id": "195e24bf",
   "metadata": {},
   "outputs": [],
   "source": [
    "df['Teacher_Quality'].fillna('Medium',inplace=True)\n",
    "df['Parental_Education_Level'].fillna('High School',inplace=True)\n",
    "df['Distance_from_Home'].fillna('Near',inplace=True)"
   ]
  },
  {
   "cell_type": "code",
   "execution_count": null,
   "id": "03f18c48",
   "metadata": {},
   "outputs": [],
   "source": [
    "df.isnull().sum().sum()"
   ]
  },
  {
   "cell_type": "markdown",
   "id": "2ac19601",
   "metadata": {},
   "source": [
    "## knowing outliers "
   ]
  },
  {
   "cell_type": "code",
   "execution_count": null,
   "id": "fd0e44b4",
   "metadata": {},
   "outputs": [],
   "source": [
    "knowing_outliers(df)"
   ]
  },
  {
   "cell_type": "code",
   "execution_count": null,
   "id": "d886ee84",
   "metadata": {},
   "outputs": [],
   "source": [
    "for i in df[['Hours_Studied', 'Tutoring_Sessions', 'Exam_Score']]:\n",
    "    df[i]=treat_outliers(df,i)"
   ]
  },
  {
   "cell_type": "code",
   "execution_count": null,
   "id": "637a3e88",
   "metadata": {},
   "outputs": [],
   "source": [
    "knowing_outliers(df)"
   ]
  },
  {
   "cell_type": "markdown",
   "id": "f7ed2321",
   "metadata": {},
   "source": [
    "**now outliers in `detected`** "
   ]
  },
  {
   "cell_type": "markdown",
   "id": "d358f0b3",
   "metadata": {},
   "source": [
    "## Machine Learning "
   ]
  },
  {
   "cell_type": "code",
   "execution_count": null,
   "id": "55755374",
   "metadata": {},
   "outputs": [],
   "source": [
    "new_df=pd.get_dummies(df, drop_first=True,dtype='int')"
   ]
  },
  {
   "cell_type": "code",
   "execution_count": null,
   "id": "b99721ee",
   "metadata": {},
   "outputs": [],
   "source": [
    "new_df"
   ]
  },
  {
   "cell_type": "code",
   "execution_count": null,
   "id": "4a388ddb",
   "metadata": {},
   "outputs": [],
   "source": [
    "new_df.corr(numeric_only=True).loc['Exam_Score']"
   ]
  },
  {
   "cell_type": "code",
   "execution_count": null,
   "id": "7e114aff",
   "metadata": {},
   "outputs": [],
   "source": [
    "scaler=StandardScaler()\n",
    "model=LinearRegression()\n",
    "linear_regression_model_plotly(new_df,scaler,model)"
   ]
  },
  {
   "cell_type": "code",
   "execution_count": null,
   "id": "480942f9",
   "metadata": {},
   "outputs": [],
   "source": [
    "new_df.columns"
   ]
  },
  {
   "cell_type": "code",
   "execution_count": null,
   "id": "cce5f9b8",
   "metadata": {},
   "outputs": [],
   "source": [
    "with open('saved_linear_model.pkl', 'rb') as model_file:\n",
    "    model = pickle.load(model_file)\n",
    "\n",
    "with open('saved_scaler_linear.pkl', 'rb') as scaler_file:\n",
    "    scaler = pickle.load(scaler_file)"
   ]
  },
  {
   "cell_type": "code",
   "execution_count": 1,
   "id": "a630dec4",
   "metadata": {
    "scrolled": false
   },
   "outputs": [
    {
     "name": "stderr",
     "output_type": "stream",
     "text": [
      "2024-10-01 14:21:36.077 INFO    numexpr.utils: NumExpr defaulting to 8 threads.\n",
      "2024-10-01 14:21:46.123 \n",
      "  \u001b[33m\u001b[1mWarning:\u001b[0m to view this Streamlit app on a browser, run it with the following\n",
      "  command:\n",
      "\n",
      "    streamlit run C:\\Users\\Ayman\\anaconda3\\lib\\site-packages\\ipykernel_launcher.py [ARGUMENTS]\n"
     ]
    }
   ],
   "source": [
    "import streamlit as st\n",
    "import pickle\n",
    "import numpy as np\n",
    "\n",
    "# Load model and scaler\n",
    "with open('saved_linear_model_new.pkl', 'rb') as model_file:\n",
    "    model = pickle.load(model_file)\n",
    "\n",
    "with open('saved_scaler_linear_new.pkl', 'rb') as scaler_file:\n",
    "    scaler = pickle.load(scaler_file)\n",
    "\n",
    "expected_columns = [\n",
    "    'Hours_Studied', 'Attendance', 'Sleep_Hours', 'Previous_Scores', \n",
    "    'Tutoring_Sessions', 'Physical_Activity', 'Parental_Involvement_Low',\n",
    "    'Parental_Involvement_Medium', 'Access_to_Resources_Low', \n",
    "    'Access_to_Resources_Medium', 'Extracurricular_Activities_Yes',\n",
    "    'Motivation_Level_Low', 'Motivation_Level_Medium', 'Internet_Access_Yes', \n",
    "    'Family_Income_Low', 'Family_Income_Medium', 'Teacher_Quality_Low',\n",
    "    'Teacher_Quality_Medium', 'School_Type_Public', 'Peer_Influence_Neutral',\n",
    "    'Peer_Influence_Positive', 'Learning_Disabilities_Yes',\n",
    "    'Parental_Education_Level_High School', 'Parental_Education_Level_Postgraduate',\n",
    "    'Distance_from_Home_Moderate', 'Distance_from_Home_Near', 'Gender_Male'\n",
    "]\n",
    "\n",
    "# Streamlit UI\n",
    "st.title(\"Student Performance Prediction\")\n",
    "st.image(\"pexels-pixabay-256490.jpg\", use_column_width=True)\n",
    "\n",
    "st.header(\"Enter Student Details:\")\n",
    "\n",
    "# Collecting user input\n",
    "hours_studied = st.number_input(\"Hours Studied:\", min_value=0.0)\n",
    "attendance = st.number_input(\"Attendance:\", min_value=0.0)\n",
    "sleep_hours = st.number_input(\"Sleep Hours:\", min_value=0.0)\n",
    "previous_scores = st.number_input(\"Previous Scores:\", min_value=0.0)\n",
    "tutoring_sessions = st.number_input(\"Tutoring Sessions:\", min_value=0.0)\n",
    "physical_activity = st.number_input(\"Physical Activity:\", min_value=0.0)\n",
    "\n",
    "parental_involvement = st.selectbox(\"Parental Involvement:\", [\"Low\", \"Medium\", \"High\"])\n",
    "access_to_resources = st.selectbox(\"Access to Resources:\", [\"Low\", \"Medium\", \"High\"])\n",
    "extracurricular_activities = st.selectbox(\"Extracurricular Activities:\", [\"Yes\", \"No\"])\n",
    "motivation_level = st.selectbox(\"Motivation Level:\", [\"Low\", \"Medium\", \"High\"])\n",
    "internet_access = st.selectbox(\"Internet Access:\", [\"Yes\", \"No\"])\n",
    "family_income = st.selectbox(\"Family Income:\", [\"Low\", \"Medium\", \"High\"])\n",
    "teacher_quality = st.selectbox(\"Teacher Quality:\", [\"Low\", \"Medium\", \"High\"])\n",
    "school_type = st.selectbox(\"School Type:\", [\"Public\", \"Private\"])\n",
    "peer_influence = st.selectbox(\"Peer Influence:\", [\"Neutral\", \"Positive\", \"Negative\"])\n",
    "learning_disabilities = st.selectbox(\"Learning Disabilities:\", [\"Yes\", \"No\"])\n",
    "parental_education_level = st.selectbox(\"Parental Education Level:\", [\"High School\", \"Undergraduate\", \"Postgraduate\"])\n",
    "distance_from_home = st.selectbox(\"Distance from Home:\", [\"Near\", \"Moderate\", \"Far\"])\n",
    "gender = st.selectbox(\"Gender:\", [\"Male\", \"Female\"])\n",
    "\n",
    "# Submit button\n",
    "if st.button(\"Submit\"):\n",
    "    try:\n",
    "        # Convert inputs to features list\n",
    "        features = [\n",
    "            hours_studied, attendance, sleep_hours, previous_scores, tutoring_sessions, physical_activity,\n",
    "            1 if parental_involvement == \"Low\" else 0,\n",
    "            1 if parental_involvement == \"Medium\" else 0,\n",
    "            1 if access_to_resources == \"Low\" else 0,\n",
    "            1 if access_to_resources == \"Medium\" else 0,\n",
    "            1 if extracurricular_activities == \"Yes\" else 0,\n",
    "            1 if motivation_level == \"Low\" else 0,\n",
    "            1 if motivation_level == \"Medium\" else 0,\n",
    "            1 if internet_access == \"Yes\" else 0,\n",
    "            1 if family_income == \"Low\" else 0,\n",
    "            1 if family_income == \"Medium\" else 0,\n",
    "            1 if teacher_quality == \"Low\" else 0,\n",
    "            1 if teacher_quality == \"Medium\" else 0,\n",
    "            1 if school_type == \"Public\" else 0,\n",
    "            1 if peer_influence == \"Neutral\" else 0,\n",
    "            1 if peer_influence == \"Positive\" else 0,\n",
    "            1 if learning_disabilities == \"Yes\" else 0,\n",
    "            1 if parental_education_level == \"High School\" else 0,\n",
    "            1 if parental_education_level == \"Postgraduate\" else 0,\n",
    "            1 if distance_from_home == \"Moderate\" else 0,\n",
    "            1 if distance_from_home == \"Near\" else 0,\n",
    "            1 if gender == \"Male\" else 0\n",
    "        ]\n",
    "\n",
    "        features_array = np.array([features])\n",
    "\n",
    "        if features_array.shape[1] != len(expected_columns):\n",
    "            st.error(\"Feature count mismatch.\")\n",
    "        else:\n",
    "            # Scale features and make prediction\n",
    "            features_scaled = scaler.transform(features_array)\n",
    "            predicted_exam_score = model.predict(features_scaled)\n",
    "\n",
    "            st.success(f\"Predicted Exam Score: {predicted_exam_score[0]:.2f}\")\n",
    "\n",
    "    except ValueError as e:\n",
    "        st.error(f\"Error: {str(e)}\")\n",
    "    except Exception as e:\n",
    "        st.error(f\"An unexpected error occurred: {str(e)}\")\n"
   ]
  },
  {
   "cell_type": "code",
   "execution_count": null,
   "id": "1bee943a",
   "metadata": {},
   "outputs": [],
   "source": [
    "!pip install streamlit"
   ]
  },
  {
   "cell_type": "code",
   "execution_count": null,
   "id": "43a3aebf",
   "metadata": {},
   "outputs": [],
   "source": []
  }
 ],
 "metadata": {
  "kernelspec": {
   "display_name": "Python 3 (ipykernel)",
   "language": "python",
   "name": "python3"
  },
  "language_info": {
   "codemirror_mode": {
    "name": "ipython",
    "version": 3
   },
   "file_extension": ".py",
   "mimetype": "text/x-python",
   "name": "python",
   "nbconvert_exporter": "python",
   "pygments_lexer": "ipython3",
   "version": "3.9.7"
  }
 },
 "nbformat": 4,
 "nbformat_minor": 5
}
